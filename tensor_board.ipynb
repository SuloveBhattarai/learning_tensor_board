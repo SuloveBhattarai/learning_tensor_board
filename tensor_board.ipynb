{
 "cells": [
  {
   "cell_type": "code",
   "execution_count": 2,
   "id": "b642a2fc-d335-46f0-a2fc-59c9c9451f2e",
   "metadata": {},
   "outputs": [],
   "source": [
    "import torch"
   ]
  },
  {
   "cell_type": "code",
   "execution_count": 86,
   "id": "472b4cde-572e-4036-a576-6f41ecfe3476",
   "metadata": {},
   "outputs": [],
   "source": [
    "import torch.nn as nn\n",
    "import sys"
   ]
  },
  {
   "cell_type": "code",
   "execution_count": 102,
   "id": "a5a3ee46-fd8e-4334-9cec-2ef1c1c25257",
   "metadata": {},
   "outputs": [],
   "source": [
    "import torchvision\n",
    "import torchvision.transforms as transforms\n",
    "from torch.utils.tensorboard import SummaryWriter\n",
    "writer= SummaryWriter(\"runs/mnist2\")"
   ]
  },
  {
   "cell_type": "code",
   "execution_count": 103,
   "id": "d3b2a89c-b836-4fdd-baae-682322efec4f",
   "metadata": {},
   "outputs": [],
   "source": [
    "import matplotlib.pyplot as plt"
   ]
  },
  {
   "cell_type": "code",
   "execution_count": 104,
   "id": "cb8df610-3382-4494-bf9c-b66e9767f693",
   "metadata": {},
   "outputs": [
    {
     "data": {
      "text/plain": [
       "device(type='cuda')"
      ]
     },
     "execution_count": 104,
     "metadata": {},
     "output_type": "execute_result"
    }
   ],
   "source": [
    "device= torch.device('cuda' if torch.cuda.is_available() else 'cpu')\n",
    "device"
   ]
  },
  {
   "cell_type": "markdown",
   "id": "5c323da4-6097-48d1-b3d8-8e1b7b522ab2",
   "metadata": {},
   "source": [
    "**Hyper Parameter Configuration**"
   ]
  },
  {
   "cell_type": "code",
   "execution_count": 105,
   "id": "1b0d3a9b-1024-4b50-bb15-cf9ca3ddf2a0",
   "metadata": {},
   "outputs": [],
   "source": [
    "input_size= 784\n",
    "hidden_size= 100\n",
    "num_classes= 10\n",
    "num_epochs= 2\n",
    "batch_size= 100\n",
    "learning_rate= 0.01"
   ]
  },
  {
   "cell_type": "code",
   "execution_count": 106,
   "id": "39a14bb9-dddc-451d-b54e-f1e1a625cb8e",
   "metadata": {},
   "outputs": [],
   "source": [
    "train_dataset= torchvision.datasets.MNIST(root= './data', train= True, \n",
    "                                         transform= transforms.ToTensor(), download= True)"
   ]
  },
  {
   "cell_type": "code",
   "execution_count": 107,
   "id": "d6b7cd35-ce31-4402-bf24-560ffd6f181b",
   "metadata": {},
   "outputs": [],
   "source": [
    "test_dataset= torchvision.datasets.MNIST(root= './data', train= False, \n",
    "                                         transform= transforms.ToTensor())"
   ]
  },
  {
   "cell_type": "code",
   "execution_count": 108,
   "id": "86d58c62-1516-4dc5-9b12-78d73c7d357f",
   "metadata": {},
   "outputs": [],
   "source": [
    "train_loader= torch.utils.data.DataLoader(dataset= train_dataset, batch_size= batch_size,\n",
    "                                          shuffle= True)"
   ]
  },
  {
   "cell_type": "code",
   "execution_count": 109,
   "id": "cb3e35a1-8d32-4d81-9d1f-68fe1bba36f8",
   "metadata": {},
   "outputs": [],
   "source": [
    "test_loader= torch.utils.data.DataLoader(dataset= test_dataset, batch_size= batch_size,\n",
    "                                          shuffle= False)"
   ]
  },
  {
   "cell_type": "code",
   "execution_count": 110,
   "id": "5963b375-3168-4371-b3a9-068ade11edf1",
   "metadata": {},
   "outputs": [],
   "source": [
    "examples = iter(train_loader)\n",
    "example_data, example_targets= next(examples)"
   ]
  },
  {
   "cell_type": "code",
   "execution_count": 111,
   "id": "f2ba18d2-8149-48d3-b9a7-ef2bf0eef295",
   "metadata": {},
   "outputs": [
    {
     "name": "stdout",
     "output_type": "stream",
     "text": [
      "torch.Size([100, 1, 28, 28]) torch.Size([100])\n"
     ]
    }
   ],
   "source": [
    "for samples, labels in train_loader:\n",
    "    break\n",
    "print(samples.shape, labels.shape)"
   ]
  },
  {
   "cell_type": "markdown",
   "id": "16c055f1-e8d0-4aa3-9c28-38decdc57094",
   "metadata": {},
   "source": [
    "100 Samples in the Batch <br>\n",
    "1 Channel in the image as it is not colored one <br>\n",
    "28 X 28 actual image array"
   ]
  },
  {
   "cell_type": "code",
   "execution_count": 112,
   "id": "f874d7dc-a744-4eae-9f00-24d62057e1a1",
   "metadata": {},
   "outputs": [
    {
     "data": {
      "image/png": "[encoded data removed]",
      "text/plain": [
       "<Figure size 1000x600 with 6 Axes>"
      ]
     },
     "metadata": {},
     "output_type": "display_data"
    }
   ],
   "source": [
    "fig, axes = plt.subplots(2, 3, figsize=(10, 6))  \n",
    "\n",
    "for i, ax in enumerate(axes.flatten()):  # Flatten axes to iterate over them easily\n",
    "    ax.imshow(samples[i][0], cmap='gray') \n",
    "    ax.set_title(f'Label: {labels[i].item()}')  \n",
    "    ax.axis('off')  \n",
    "\n",
    "img_grid= torchvision.utils.make_grid(example_data)\n",
    "writer.add_image('mnist_images',img_grid)\n",
    "writer.close()\n",
    "#sys.exit()\n",
    "#print(ax)\n",
    "# plt.tight_layout()  \n",
    "# plt.show()\n"
   ]
  },
  {
   "cell_type": "markdown",
   "id": "af735277-e359-4155-b5ef-adc717da144e",
   "metadata": {},
   "source": [
    "**Neural Net Class** "
   ]
  },
  {
   "cell_type": "code",
   "execution_count": 113,
   "id": "3875f045-cfe2-4350-b911-3fb55a77c767",
   "metadata": {},
   "outputs": [],
   "source": [
    "class NeuralNet(nn.Module):\n",
    "    def __init__(self, input_size, hidden_size, num_classes):\n",
    "        super(NeuralNet, self).__init__()\n",
    "        self.l1= nn.Linear(input_size, hidden_size)\n",
    "        self.relu= nn.ReLU()\n",
    "        self.l2= nn.Linear(hidden_size, num_classes)\n",
    "\n",
    "    def forward(self, x):\n",
    "        out= self.l1(x)\n",
    "        #print(f'Self-L1= {out}')\n",
    "        out= self.relu(out)\n",
    "        #print(f'Self-relu= {out}')\n",
    "        out= self.l2(out)\n",
    "        #print(f'Self-L2= {out}')\n",
    "        return out"
   ]
  },
  {
   "cell_type": "code",
   "execution_count": 114,
   "id": "a19a75df-816f-4e33-83b5-29cdfd28d2a3",
   "metadata": {},
   "outputs": [
    {
     "name": "stdout",
     "output_type": "stream",
     "text": [
      "NeuralNet(\n",
      "  (l1): Linear(in_features=784, out_features=100, bias=True)\n",
      "  (relu): ReLU()\n",
      "  (l2): Linear(in_features=100, out_features=10, bias=True)\n",
      ")\n",
      "10\n"
     ]
    }
   ],
   "source": [
    "model= NeuralNet(input_size, hidden_size, num_classes)\n",
    "model.to(device)\n",
    "print(model)\n",
    "print(num_classes)"
   ]
  },
  {
   "cell_type": "markdown",
   "id": "e7927cc1-1b5f-4cfa-986c-bd1bd123c89b",
   "metadata": {},
   "source": [
    "**Loss and Optimizer**"
   ]
  },
  {
   "cell_type": "code",
   "execution_count": 115,
   "id": "baef5697-163b-4e0c-99ab-5c42bfe15784",
   "metadata": {},
   "outputs": [],
   "source": [
    "criterion= nn.CrossEntropyLoss()\n",
    "optimizer= torch.optim.Adam(model.parameters(), lr= learning_rate)\n",
    "writer.add_graph(model, example_data.reshape(-1, 28*28).to(device))\n",
    "writer.close()\n",
    "#sys.exit()\n",
    "n_total_steps= len(train_loader)"
   ]
  },
  {
   "cell_type": "code",
   "execution_count": 116,
   "id": "68bb25c8-6150-4fc3-96a3-6e9e25184ee8",
   "metadata": {},
   "outputs": [],
   "source": [
    "running_loss= 0.0\n",
    "running_correct = 0"
   ]
  },
  {
   "cell_type": "markdown",
   "id": "b8d26e54-2fc8-4b9c-ab96-a803cb360bf5",
   "metadata": {},
   "source": [
    "**Training Loops**"
   ]
  },
  {
   "cell_type": "code",
   "execution_count": 117,
   "id": "dd92c409-5b35-4bee-80e5-7e93aa5f6888",
   "metadata": {},
   "outputs": [
    {
     "name": "stdout",
     "output_type": "stream",
     "text": [
      "Epoch [1/2], Step [100/600], Loss: 0.2388\n",
      "Epoch [1/2], Step [200/600], Loss: 0.2856\n",
      "Epoch [1/2], Step [300/600], Loss: 0.1648\n",
      "Epoch [1/2], Step [400/600], Loss: 0.1157\n",
      "Epoch [1/2], Step [500/600], Loss: 0.0937\n",
      "Epoch [1/2], Step [600/600], Loss: 0.1268\n",
      "Epoch [2/2], Step [100/600], Loss: 0.1156\n",
      "Epoch [2/2], Step [200/600], Loss: 0.1255\n",
      "Epoch [2/2], Step [300/600], Loss: 0.1283\n",
      "Epoch [2/2], Step [400/600], Loss: 0.0986\n",
      "Epoch [2/2], Step [500/600], Loss: 0.2047\n",
      "Epoch [2/2], Step [600/600], Loss: 0.1023\n"
     ]
    }
   ],
   "source": [
    "n_total_steps= len(train_loader)\n",
    "for epoch in range(num_epochs):\n",
    "    for i, (images, labels) in enumerate(train_loader):\n",
    "        images= images.reshape(-1, 28*28).to(device)\n",
    "        labels= labels.to(device)\n",
    "\n",
    "        outputs= model(images)\n",
    "        loss= criterion(outputs, labels)\n",
    "\n",
    "        # Backwards\n",
    "        optimizer.zero_grad()\n",
    "        loss.backward()\n",
    "        optimizer.step()\n",
    "\n",
    "        running_loss+= loss.item()\n",
    "\n",
    "        _, predicted= torch.max(outputs.data, 1)\n",
    "        running_correct += (predicted== labels).sum().item()\n",
    "        \n",
    "        if (i+1)%100== 0:\n",
    "            print(f'Epoch [{epoch+1}/{num_epochs}], Step [{i+1}/{n_total_steps}], Loss: {loss.item():.4f}')\n",
    "            writer.add_scalar('training loss', running_loss/ 100, epoch*n_total_steps+i)\n",
    "            writer.add_scalar('accuracy', running_correct/ 100, epoch*n_total_steps+i)\n",
    "            running_loss= 0.0\n",
    "            running_correct= 0"
   ]
  },
  {
   "cell_type": "markdown",
   "id": "07e97356-0d6f-41a7-b154-0bf138caf91f",
   "metadata": {},
   "source": [
    "**Testing Loops**"
   ]
  },
  {
   "cell_type": "code",
   "execution_count": 118,
   "id": "b8b98d67-f000-4006-9573-0d8f7917ea4c",
   "metadata": {},
   "outputs": [
    {
     "name": "stdout",
     "output_type": "stream",
     "text": [
      "accuracy= 96.76\n"
     ]
    }
   ],
   "source": [
    "with torch.no_grad():\n",
    "    n_correct= 0\n",
    "    n_samples= 0\n",
    "    for images, labels in test_loader: \n",
    "        images= images.reshape(-1, 28*28).to(device)\n",
    "        labels= labels.to(device)\n",
    "        outputs= model(images)\n",
    "\n",
    "        #Values and index,\n",
    "        _, predictions= torch.max(outputs, 1)\n",
    "        n_samples += labels.shape[0]\n",
    "        n_correct += (predictions== labels).sum().item()\n",
    "\n",
    "    acc= 100.0* n_correct/ n_samples\n",
    "    print(f'accuracy= {acc}')"
   ]
  },
  {
   "cell_type": "code",
   "execution_count": null,
   "id": "d6db3067-ac30-41a3-8d01-8ebbd922fb27",
   "metadata": {},
   "outputs": [],
   "source": []
  }
 ],
 "metadata": {
  "kernelspec": {
   "display_name": "Python 3 (ipykernel)",
   "language": "python",
   "name": "python3"
  },
  "language_info": {
   "codemirror_mode": {
    "name": "ipython",
    "version": 3
   },
   "file_extension": ".py",
   "mimetype": "text/x-python",
   "name": "python",
   "nbconvert_exporter": "python",
   "pygments_lexer": "ipython3",
   "version": "3.11.7"
  }
 },
 "nbformat": 4,
 "nbformat_minor": 5
}
